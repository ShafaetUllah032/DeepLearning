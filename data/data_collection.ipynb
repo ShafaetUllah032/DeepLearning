{
 "cells": [
  {
   "cell_type": "code",
   "execution_count": 2,
   "metadata": {},
   "outputs": [],
   "source": [
    "from pathlib import Path\n",
    "import requests "
   ]
  },
  {
   "cell_type": "code",
   "execution_count": 3,
   "metadata": {},
   "outputs": [],
   "source": [
    "import string\n",
    "import requests\n",
    "def create_new_data(url:string,\n",
    "                    file_name:string,\n",
    "                    dir:string=\"data\"):\n",
    "    print(f\"Got the url : {url} \\nfilename: {file_name}\\n\")\n",
    "    path=f\"../{dir}/{file_name}\"\n",
    "    path=Path(path)\n",
    "    print(f\"File location: {path}\\n\")\n",
    "    if (path).exists():\n",
    "        print(f\"Data already exists ... \\nskiping process ..... \\n\")\n",
    "    else:\n",
    "        print(f\"Let's create the data for you ..... \\n\")\n",
    "        with open(file_name,'wb') as file:\n",
    "            info=requests.get(url)\n",
    "            file.write(info.content)"
   ]
  },
  {
   "cell_type": "code",
   "execution_count": 4,
   "metadata": {},
   "outputs": [
    {
     "name": "stdout",
     "output_type": "stream",
     "text": [
      "Got the url : https://raw.githubusercontent.com/campusx-official/100-days-of-machine-learning/main/day31-power-transformer/concrete_data.csv \n",
      "filename: concrete_data.csv\n",
      "\n",
      "File location: ..\\data\\concrete_data.csv\n",
      "\n",
      "Data already exists ... \n",
      "skiping process ..... \n",
      "\n"
     ]
    }
   ],
   "source": [
    "url=\"https://raw.githubusercontent.com/campusx-official/100-days-of-machine-learning/main/day31-power-transformer/concrete_data.csv\"\n",
    "file_name=\"concrete_data.csv\"\n",
    "create_new_data(url,\n",
    "                file_name)"
   ]
  },
  {
   "cell_type": "code",
   "execution_count": 5,
   "metadata": {},
   "outputs": [
    {
     "name": "stdout",
     "output_type": "stream",
     "text": [
      "Got the url : https://raw.githubusercontent.com/campusx-official/100-days-of-machine-learning/main/day29-sklearn-pipelines/train.csv \n",
      "filename: titanic_train.csv\n",
      "\n",
      "File location: ..\\data\\titanic_train.csv\n",
      "\n",
      "Data already exists ... \n",
      "skiping process ..... \n",
      "\n"
     ]
    }
   ],
   "source": [
    "url=\"https://raw.githubusercontent.com/campusx-official/100-days-of-machine-learning/main/day29-sklearn-pipelines/train.csv\"\n",
    "file_name=\"titanic_train.csv\"\n",
    "create_new_data(url,\n",
    "                file_name)"
   ]
  },
  {
   "cell_type": "code",
   "execution_count": 6,
   "metadata": {},
   "outputs": [
    {
     "name": "stdout",
     "output_type": "stream",
     "text": [
      "Got the url : https://raw.githubusercontent.com/campusx-official/100-days-of-machine-learning/main/day33-handling-mixed-variables/titanic.csv \n",
      "filename: titanic_mixed_value.csv\n",
      "\n",
      "File location: ..\\data\\titanic_mixed_value.csv\n",
      "\n",
      "Data already exists ... \n",
      "skiping process ..... \n",
      "\n"
     ]
    }
   ],
   "source": [
    "url=\"https://raw.githubusercontent.com/campusx-official/100-days-of-machine-learning/main/day33-handling-mixed-variables/titanic.csv\"\n",
    "file_name=\"titanic_mixed_value.csv\"\n",
    "create_new_data(url,\n",
    "                file_name)"
   ]
  },
  {
   "cell_type": "code",
   "execution_count": 7,
   "metadata": {},
   "outputs": [
    {
     "name": "stdout",
     "output_type": "stream",
     "text": [
      "Got the url : https://raw.githubusercontent.com/campusx-official/100-days-of-machine-learning/main/day34-handling-date-and-time/messages.csv \n",
      "filename: messages.csv\n",
      "\n",
      "File location: ..\\data\\messages.csv\n",
      "\n",
      "Data already exists ... \n",
      "skiping process ..... \n",
      "\n"
     ]
    }
   ],
   "source": [
    "url=\"https://raw.githubusercontent.com/campusx-official/100-days-of-machine-learning/main/day34-handling-date-and-time/messages.csv\"\n",
    "file_name='messages.csv'\n",
    "create_new_data(url,\n",
    "                file_name)"
   ]
  },
  {
   "cell_type": "code",
   "execution_count": 8,
   "metadata": {},
   "outputs": [
    {
     "name": "stdout",
     "output_type": "stream",
     "text": [
      "Got the url : https://raw.githubusercontent.com/campusx-official/100-days-of-machine-learning/main/day34-handling-date-and-time/orders.csv \n",
      "filename: order.csv\n",
      "\n",
      "File location: ..\\data\\order.csv\n",
      "\n",
      "Data already exists ... \n",
      "skiping process ..... \n",
      "\n"
     ]
    }
   ],
   "source": [
    "url=\"https://raw.githubusercontent.com/campusx-official/100-days-of-machine-learning/main/day34-handling-date-and-time/orders.csv\"\n",
    "file_name=\"order.csv\"\n",
    "create_new_data(url,\n",
    "                file_name)"
   ]
  },
  {
   "cell_type": "code",
   "execution_count": 9,
   "metadata": {},
   "outputs": [
    {
     "name": "stdout",
     "output_type": "stream",
     "text": [
      "Got the url : https://raw.githubusercontent.com/campusx-official/100-days-of-machine-learning/main/day35-complete-case-analysis/data_science_job.csv \n",
      "filename: data_science_job.csv\n",
      "\n",
      "File location: ..\\data\\data_science_job.csv\n",
      "\n",
      "Data already exists ... \n",
      "skiping process ..... \n",
      "\n"
     ]
    }
   ],
   "source": [
    "url=\"https://raw.githubusercontent.com/campusx-official/100-days-of-machine-learning/main/day35-complete-case-analysis/data_science_job.csv\"\n",
    "file_name=\"data_science_job.csv\"\n",
    "create_new_data(url,\n",
    "                file_name)"
   ]
  },
  {
   "cell_type": "code",
   "execution_count": 10,
   "metadata": {},
   "outputs": [
    {
     "name": "stdout",
     "output_type": "stream",
     "text": [
      "Got the url : https://raw.githubusercontent.com/campusx-official/100-days-of-machine-learning/main/day36-imputing-numerical-data/titanic_toy.csv \n",
      "filename: titanic_toy.csv\n",
      "\n",
      "File location: ..\\data\\titanic_toy.csv\n",
      "\n",
      "Let's create the data for you ..... \n",
      "\n"
     ]
    }
   ],
   "source": [
    "url=\"https://raw.githubusercontent.com/campusx-official/100-days-of-machine-learning/main/day36-imputing-numerical-data/titanic_toy.csv\"\n",
    "file_name=\"titanic_toy.csv\"\n",
    "create_new_data(url,\n",
    "                file_name)"
   ]
  },
  {
   "cell_type": "code",
   "execution_count": null,
   "metadata": {},
   "outputs": [],
   "source": []
  }
 ],
 "metadata": {
  "kernelspec": {
   "display_name": "DeepLearning",
   "language": "python",
   "name": "python3"
  },
  "language_info": {
   "codemirror_mode": {
    "name": "ipython",
    "version": 3
   },
   "file_extension": ".py",
   "mimetype": "text/x-python",
   "name": "python",
   "nbconvert_exporter": "python",
   "pygments_lexer": "ipython3",
   "version": "3.11.9"
  }
 },
 "nbformat": 4,
 "nbformat_minor": 2
}
