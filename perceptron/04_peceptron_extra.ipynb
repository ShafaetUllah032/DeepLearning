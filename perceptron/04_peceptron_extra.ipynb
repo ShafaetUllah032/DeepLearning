{
 "cells": [
  {
   "cell_type": "code",
   "execution_count": 1,
   "metadata": {},
   "outputs": [
    {
     "ename": "NotImplementedError",
     "evalue": "iLocation based boolean indexing on an integer type is not available",
     "output_type": "error",
     "traceback": [
      "\u001b[1;31m---------------------------------------------------------------------------\u001b[0m",
      "\u001b[1;31mNotImplementedError\u001b[0m                       Traceback (most recent call last)",
      "Cell \u001b[1;32mIn[1], line 81\u001b[0m\n\u001b[0;32m     78\u001b[0m     \u001b[38;5;28;01mreturn\u001b[39;00m \u001b[38;5;241m1\u001b[39m \u001b[38;5;28;01mif\u001b[39;00m np\u001b[38;5;241m.\u001b[39mdot(point, weights) \u001b[38;5;241m+\u001b[39m bias \u001b[38;5;241m>\u001b[39m \u001b[38;5;241m0\u001b[39m \u001b[38;5;28;01melse\u001b[39;00m \u001b[38;5;241m0\u001b[39m\n\u001b[0;32m     80\u001b[0m \u001b[38;5;66;03m# Plot decision regions\u001b[39;00m\n\u001b[1;32m---> 81\u001b[0m \u001b[43mplot_decision_regions\u001b[49m\u001b[43m(\u001b[49m\u001b[43mX\u001b[49m\u001b[43m,\u001b[49m\u001b[43m \u001b[49m\u001b[43my\u001b[49m\u001b[43m,\u001b[49m\u001b[43m \u001b[49m\u001b[43mclassifier\u001b[49m\u001b[38;5;241;43m=\u001b[39;49m\u001b[43mclassifier\u001b[49m\u001b[43m)\u001b[49m\n\u001b[0;32m     82\u001b[0m plt\u001b[38;5;241m.\u001b[39mxlabel(\u001b[38;5;124m'\u001b[39m\u001b[38;5;124mFeature 1\u001b[39m\u001b[38;5;124m'\u001b[39m)\n\u001b[0;32m     83\u001b[0m plt\u001b[38;5;241m.\u001b[39mylabel(\u001b[38;5;124m'\u001b[39m\u001b[38;5;124mFeature 2\u001b[39m\u001b[38;5;124m'\u001b[39m)\n",
      "Cell \u001b[1;32mIn[1], line 55\u001b[0m, in \u001b[0;36mplot_decision_regions\u001b[1;34m(X, y, classifier, resolution)\u001b[0m\n\u001b[0;32m     53\u001b[0m \u001b[38;5;66;03m# Plot the data points\u001b[39;00m\n\u001b[0;32m     54\u001b[0m \u001b[38;5;28;01mfor\u001b[39;00m idx, cl \u001b[38;5;129;01min\u001b[39;00m \u001b[38;5;28menumerate\u001b[39m(np\u001b[38;5;241m.\u001b[39munique(y)):\n\u001b[1;32m---> 55\u001b[0m     plt\u001b[38;5;241m.\u001b[39mscatter(x\u001b[38;5;241m=\u001b[39m\u001b[43mX\u001b[49m\u001b[38;5;241;43m.\u001b[39;49m\u001b[43miloc\u001b[49m\u001b[43m[\u001b[49m\u001b[43my\u001b[49m\u001b[43m \u001b[49m\u001b[38;5;241;43m==\u001b[39;49m\u001b[43m \u001b[49m\u001b[43mcl\u001b[49m\u001b[43m,\u001b[49m\u001b[43m \u001b[49m\u001b[38;5;241;43m0\u001b[39;49m\u001b[43m]\u001b[49m, \n\u001b[0;32m     56\u001b[0m                 y\u001b[38;5;241m=\u001b[39mX\u001b[38;5;241m.\u001b[39miloc[y \u001b[38;5;241m==\u001b[39m cl, \u001b[38;5;241m1\u001b[39m],\n\u001b[0;32m     57\u001b[0m                 alpha\u001b[38;5;241m=\u001b[39m\u001b[38;5;241m0.8\u001b[39m, \n\u001b[0;32m     58\u001b[0m                 c\u001b[38;5;241m=\u001b[39mcolors[idx],\n\u001b[0;32m     59\u001b[0m                 marker\u001b[38;5;241m=\u001b[39mmarkers[idx], \n\u001b[0;32m     60\u001b[0m                 label\u001b[38;5;241m=\u001b[39mcl, \n\u001b[0;32m     61\u001b[0m                 edgecolor\u001b[38;5;241m=\u001b[39m\u001b[38;5;124m'\u001b[39m\u001b[38;5;124mblack\u001b[39m\u001b[38;5;124m'\u001b[39m)\n",
      "File \u001b[1;32mc:\\Users\\shafe\\anaconda3\\envs\\DeepLearning\\Lib\\site-packages\\pandas\\core\\indexing.py:1184\u001b[0m, in \u001b[0;36m_LocationIndexer.__getitem__\u001b[1;34m(self, key)\u001b[0m\n\u001b[0;32m   1182\u001b[0m     \u001b[38;5;28;01mif\u001b[39;00m \u001b[38;5;28mself\u001b[39m\u001b[38;5;241m.\u001b[39m_is_scalar_access(key):\n\u001b[0;32m   1183\u001b[0m         \u001b[38;5;28;01mreturn\u001b[39;00m \u001b[38;5;28mself\u001b[39m\u001b[38;5;241m.\u001b[39mobj\u001b[38;5;241m.\u001b[39m_get_value(\u001b[38;5;241m*\u001b[39mkey, takeable\u001b[38;5;241m=\u001b[39m\u001b[38;5;28mself\u001b[39m\u001b[38;5;241m.\u001b[39m_takeable)\n\u001b[1;32m-> 1184\u001b[0m     \u001b[38;5;28;01mreturn\u001b[39;00m \u001b[38;5;28;43mself\u001b[39;49m\u001b[38;5;241;43m.\u001b[39;49m\u001b[43m_getitem_tuple\u001b[49m\u001b[43m(\u001b[49m\u001b[43mkey\u001b[49m\u001b[43m)\u001b[49m\n\u001b[0;32m   1185\u001b[0m \u001b[38;5;28;01melse\u001b[39;00m:\n\u001b[0;32m   1186\u001b[0m     \u001b[38;5;66;03m# we by definition only have the 0th axis\u001b[39;00m\n\u001b[0;32m   1187\u001b[0m     axis \u001b[38;5;241m=\u001b[39m \u001b[38;5;28mself\u001b[39m\u001b[38;5;241m.\u001b[39maxis \u001b[38;5;129;01mor\u001b[39;00m \u001b[38;5;241m0\u001b[39m\n",
      "File \u001b[1;32mc:\\Users\\shafe\\anaconda3\\envs\\DeepLearning\\Lib\\site-packages\\pandas\\core\\indexing.py:1690\u001b[0m, in \u001b[0;36m_iLocIndexer._getitem_tuple\u001b[1;34m(self, tup)\u001b[0m\n\u001b[0;32m   1689\u001b[0m \u001b[38;5;28;01mdef\u001b[39;00m \u001b[38;5;21m_getitem_tuple\u001b[39m(\u001b[38;5;28mself\u001b[39m, tup: \u001b[38;5;28mtuple\u001b[39m):\n\u001b[1;32m-> 1690\u001b[0m     tup \u001b[38;5;241m=\u001b[39m \u001b[38;5;28;43mself\u001b[39;49m\u001b[38;5;241;43m.\u001b[39;49m\u001b[43m_validate_tuple_indexer\u001b[49m\u001b[43m(\u001b[49m\u001b[43mtup\u001b[49m\u001b[43m)\u001b[49m\n\u001b[0;32m   1691\u001b[0m     \u001b[38;5;28;01mwith\u001b[39;00m suppress(IndexingError):\n\u001b[0;32m   1692\u001b[0m         \u001b[38;5;28;01mreturn\u001b[39;00m \u001b[38;5;28mself\u001b[39m\u001b[38;5;241m.\u001b[39m_getitem_lowerdim(tup)\n",
      "File \u001b[1;32mc:\\Users\\shafe\\anaconda3\\envs\\DeepLearning\\Lib\\site-packages\\pandas\\core\\indexing.py:966\u001b[0m, in \u001b[0;36m_LocationIndexer._validate_tuple_indexer\u001b[1;34m(self, key)\u001b[0m\n\u001b[0;32m    964\u001b[0m \u001b[38;5;28;01mfor\u001b[39;00m i, k \u001b[38;5;129;01min\u001b[39;00m \u001b[38;5;28menumerate\u001b[39m(key):\n\u001b[0;32m    965\u001b[0m     \u001b[38;5;28;01mtry\u001b[39;00m:\n\u001b[1;32m--> 966\u001b[0m         \u001b[38;5;28;43mself\u001b[39;49m\u001b[38;5;241;43m.\u001b[39;49m\u001b[43m_validate_key\u001b[49m\u001b[43m(\u001b[49m\u001b[43mk\u001b[49m\u001b[43m,\u001b[49m\u001b[43m \u001b[49m\u001b[43mi\u001b[49m\u001b[43m)\u001b[49m\n\u001b[0;32m    967\u001b[0m     \u001b[38;5;28;01mexcept\u001b[39;00m \u001b[38;5;167;01mValueError\u001b[39;00m \u001b[38;5;28;01mas\u001b[39;00m err:\n\u001b[0;32m    968\u001b[0m         \u001b[38;5;28;01mraise\u001b[39;00m \u001b[38;5;167;01mValueError\u001b[39;00m(\n\u001b[0;32m    969\u001b[0m             \u001b[38;5;124m\"\u001b[39m\u001b[38;5;124mLocation based indexing can only have \u001b[39m\u001b[38;5;124m\"\u001b[39m\n\u001b[0;32m    970\u001b[0m             \u001b[38;5;124mf\u001b[39m\u001b[38;5;124m\"\u001b[39m\u001b[38;5;124m[\u001b[39m\u001b[38;5;132;01m{\u001b[39;00m\u001b[38;5;28mself\u001b[39m\u001b[38;5;241m.\u001b[39m_valid_types\u001b[38;5;132;01m}\u001b[39;00m\u001b[38;5;124m] types\u001b[39m\u001b[38;5;124m\"\u001b[39m\n\u001b[0;32m    971\u001b[0m         ) \u001b[38;5;28;01mfrom\u001b[39;00m \u001b[38;5;21;01merr\u001b[39;00m\n",
      "File \u001b[1;32mc:\\Users\\shafe\\anaconda3\\envs\\DeepLearning\\Lib\\site-packages\\pandas\\core\\indexing.py:1578\u001b[0m, in \u001b[0;36m_iLocIndexer._validate_key\u001b[1;34m(self, key, axis)\u001b[0m\n\u001b[0;32m   1576\u001b[0m \u001b[38;5;28;01mif\u001b[39;00m \u001b[38;5;28mhasattr\u001b[39m(key, \u001b[38;5;124m\"\u001b[39m\u001b[38;5;124mindex\u001b[39m\u001b[38;5;124m\"\u001b[39m) \u001b[38;5;129;01mand\u001b[39;00m \u001b[38;5;28misinstance\u001b[39m(key\u001b[38;5;241m.\u001b[39mindex, Index):\n\u001b[0;32m   1577\u001b[0m     \u001b[38;5;28;01mif\u001b[39;00m key\u001b[38;5;241m.\u001b[39mindex\u001b[38;5;241m.\u001b[39minferred_type \u001b[38;5;241m==\u001b[39m \u001b[38;5;124m\"\u001b[39m\u001b[38;5;124minteger\u001b[39m\u001b[38;5;124m\"\u001b[39m:\n\u001b[1;32m-> 1578\u001b[0m         \u001b[38;5;28;01mraise\u001b[39;00m \u001b[38;5;167;01mNotImplementedError\u001b[39;00m(\n\u001b[0;32m   1579\u001b[0m             \u001b[38;5;124m\"\u001b[39m\u001b[38;5;124miLocation based boolean \u001b[39m\u001b[38;5;124m\"\u001b[39m\n\u001b[0;32m   1580\u001b[0m             \u001b[38;5;124m\"\u001b[39m\u001b[38;5;124mindexing on an integer type \u001b[39m\u001b[38;5;124m\"\u001b[39m\n\u001b[0;32m   1581\u001b[0m             \u001b[38;5;124m\"\u001b[39m\u001b[38;5;124mis not available\u001b[39m\u001b[38;5;124m\"\u001b[39m\n\u001b[0;32m   1582\u001b[0m         )\n\u001b[0;32m   1583\u001b[0m     \u001b[38;5;28;01mraise\u001b[39;00m \u001b[38;5;167;01mValueError\u001b[39;00m(\n\u001b[0;32m   1584\u001b[0m         \u001b[38;5;124m\"\u001b[39m\u001b[38;5;124miLocation based boolean indexing cannot use \u001b[39m\u001b[38;5;124m\"\u001b[39m\n\u001b[0;32m   1585\u001b[0m         \u001b[38;5;124m\"\u001b[39m\u001b[38;5;124man indexable as a mask\u001b[39m\u001b[38;5;124m\"\u001b[39m\n\u001b[0;32m   1586\u001b[0m     )\n\u001b[0;32m   1587\u001b[0m \u001b[38;5;28;01mreturn\u001b[39;00m\n",
      "\u001b[1;31mNotImplementedError\u001b[0m: iLocation based boolean indexing on an integer type is not available"
     ]
    },
    {
     "data": {
      "image/png": "[encoded data removed]",
      "text/plain": [
       "<Figure size 640x480 with 1 Axes>"
      ]
     },
     "metadata": {},
     "output_type": "display_data"
    }
   ],
   "source": [
    "import numpy as np\n",
    "import pandas as pd\n",
    "import matplotlib.pyplot as plt\n",
    "from matplotlib.colors import ListedColormap\n",
    "\n",
    "def perceptron(X: pd.DataFrame, y: pd.Series, NUM_EPOCH: int = 1000, learning_rate: float = 0.01) -> np.ndarray:\n",
    "    # Initialize weights and bias\n",
    "    weights = np.zeros(X.shape[1])\n",
    "    bias = 0\n",
    "    \n",
    "    # Convert y to -1 and 1\n",
    "    y = y.apply(lambda x: 1 if x == 1 else -1)\n",
    "    \n",
    "    for epoch in range(NUM_EPOCH):\n",
    "        for i in range(X.shape[0]):\n",
    "            # Calculate the linear combination\n",
    "            linear_combination = np.dot(X.iloc[i], weights) + bias\n",
    "            \n",
    "            # Apply the step function\n",
    "            prediction = 1 if linear_combination > 0 else -1\n",
    "            \n",
    "            # Update weights and bias if the prediction is wrong\n",
    "            if y.iloc[i] * prediction <= 0:\n",
    "                weights += learning_rate * y.iloc[i] * X.iloc[i]\n",
    "                bias += learning_rate * y.iloc[i]\n",
    "    \n",
    "    return weights, bias\n",
    "\n",
    "def plot_decision_regions(X: pd.DataFrame, y: pd.Series, classifier, resolution: float = 0.02):\n",
    "    # Set up marker generator and color map\n",
    "    markers = ('s', 'x', 'o', '^', 'v')\n",
    "    colors = ('red', 'blue', 'lightgreen', 'gray', 'cyan')\n",
    "    cmap = ListedColormap(colors[:len(np.unique(y))])\n",
    "    \n",
    "    # Prepare the mesh grid\n",
    "    x1_min, x1_max = X.iloc[:, 0].min() - 1, X.iloc[:, 0].max() + 1\n",
    "    x2_min, x2_max = X.iloc[:, 1].min() - 1, X.iloc[:, 1].max() + 1\n",
    "    xx1, xx2 = np.meshgrid(np.arange(x1_min, x1_max, resolution),\n",
    "                           np.arange(x2_min, x2_max, resolution))\n",
    "    \n",
    "    # Flatten the grid arrays and combine them to get a matrix of points\n",
    "    grid_points = np.array([xx1.ravel(), xx2.ravel()]).T\n",
    "    \n",
    "    # Predict the class for each point in the mesh grid\n",
    "    Z = np.array([classifier(np.array([xi, xj])) for xi, xj in grid_points])\n",
    "    Z = Z.reshape(xx1.shape)\n",
    "    \n",
    "    # Plot the contour map\n",
    "    plt.contourf(xx1, xx2, Z, alpha=0.3, cmap=cmap)\n",
    "    plt.xlim(xx1.min(), xx1.max())\n",
    "    plt.ylim(xx2.min(), xx2.max())\n",
    "    \n",
    "    # Plot the data points\n",
    "    for idx, cl in enumerate(np.unique(y)):\n",
    "        plt.scatter(x=X.iloc[y == cl, 0], \n",
    "                    y=X.iloc[y == cl, 1],\n",
    "                    alpha=0.8, \n",
    "                    c=colors[idx],\n",
    "                    marker=markers[idx], \n",
    "                    label=cl, \n",
    "                    edgecolor='black')\n",
    "\n",
    "# Generate a sample dataset\n",
    "data = {\n",
    "    'feature1': [2, 4, 4, 6],\n",
    "    'feature2': [4, 2, 4, 6],\n",
    "    'label': [0, 0, 1, 1]\n",
    "}\n",
    "df = pd.DataFrame(data)\n",
    "X = df[['feature1', 'feature2']]\n",
    "y = df['label']\n",
    "\n",
    "# Train the Perceptron\n",
    "weights, bias = perceptron(X, y, NUM_EPOCH=1000)\n",
    "\n",
    "# Define the classifier function\n",
    "def classifier(point):\n",
    "    return 1 if np.dot(point, weights) + bias > 0 else 0\n",
    "\n",
    "# Plot decision regions\n",
    "plot_decision_regions(X, y, classifier=classifier)\n",
    "plt.xlabel('Feature 1')\n",
    "plt.ylabel('Feature 2')\n",
    "plt.legend(loc='upper left')\n",
    "plt.title('Decision Regions')\n",
    "plt.show()\n"
   ]
  }
 ],
 "metadata": {
  "kernelspec": {
   "display_name": "DeepLearning",
   "language": "python",
   "name": "python3"
  },
  "language_info": {
   "codemirror_mode": {
    "name": "ipython",
    "version": 3
   },
   "file_extension": ".py",
   "mimetype": "text/x-python",
   "name": "python",
   "nbconvert_exporter": "python",
   "pygments_lexer": "ipython3",
   "version": "3.11.9"
  }
 },
 "nbformat": 4,
 "nbformat_minor": 2
}
